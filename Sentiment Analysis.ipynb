{
 "cells": [
  {
   "cell_type": "code",
   "execution_count": 1,
   "id": "fb787d7f",
   "metadata": {
    "ExecuteTime": {
     "end_time": "2022-01-02T11:27:23.541083Z",
     "start_time": "2022-01-02T11:27:20.733907Z"
    }
   },
   "outputs": [],
   "source": [
    "import numpy as np\n",
    "import pandas as pd\n",
    "import nltk\n",
    "from nltk.corpus import stopwords\n",
    "import string\n",
    "from sklearn.model_selection import train_test_split\n",
    "from sklearn.feature_extraction.text import TfidfVectorizer\n",
    "from sklearn import svm\n",
    "from sklearn.metrics import classification_report"
   ]
  },
  {
   "cell_type": "code",
   "execution_count": 2,
   "id": "f94acc33",
   "metadata": {
    "ExecuteTime": {
     "end_time": "2022-01-02T11:27:23.618424Z",
     "start_time": "2022-01-02T11:27:23.545501Z"
    }
   },
   "outputs": [
    {
     "data": {
      "text/html": [
       "<div>\n",
       "<style scoped>\n",
       "    .dataframe tbody tr th:only-of-type {\n",
       "        vertical-align: middle;\n",
       "    }\n",
       "\n",
       "    .dataframe tbody tr th {\n",
       "        vertical-align: top;\n",
       "    }\n",
       "\n",
       "    .dataframe thead th {\n",
       "        text-align: right;\n",
       "    }\n",
       "</style>\n",
       "<table border=\"1\" class=\"dataframe\">\n",
       "  <thead>\n",
       "    <tr style=\"text-align: right;\">\n",
       "      <th></th>\n",
       "      <th>review</th>\n",
       "      <th>mood</th>\n",
       "    </tr>\n",
       "  </thead>\n",
       "  <tbody>\n",
       "    <tr>\n",
       "      <th>0</th>\n",
       "      <td>the rock is destined to be the 21st century's ...</td>\n",
       "      <td>1</td>\n",
       "    </tr>\n",
       "    <tr>\n",
       "      <th>1</th>\n",
       "      <td>the gorgeously elaborate continuation of \" the...</td>\n",
       "      <td>1</td>\n",
       "    </tr>\n",
       "    <tr>\n",
       "      <th>2</th>\n",
       "      <td>effective but too-tepid biopic</td>\n",
       "      <td>1</td>\n",
       "    </tr>\n",
       "    <tr>\n",
       "      <th>3</th>\n",
       "      <td>if you sometimes like to go to the movies to h...</td>\n",
       "      <td>1</td>\n",
       "    </tr>\n",
       "    <tr>\n",
       "      <th>4</th>\n",
       "      <td>emerges as something rare , an issue movie tha...</td>\n",
       "      <td>1</td>\n",
       "    </tr>\n",
       "  </tbody>\n",
       "</table>\n",
       "</div>"
      ],
      "text/plain": [
       "                                              review  mood\n",
       "0  the rock is destined to be the 21st century's ...     1\n",
       "1  the gorgeously elaborate continuation of \" the...     1\n",
       "2                     effective but too-tepid biopic     1\n",
       "3  if you sometimes like to go to the movies to h...     1\n",
       "4  emerges as something rare , an issue movie tha...     1"
      ]
     },
     "execution_count": 2,
     "metadata": {},
     "output_type": "execute_result"
    }
   ],
   "source": [
    "pos_rev = pd.read_csv('pos.txt', sep='\\n', header=None, encoding='latin-1')\n",
    "pos_rev['mood'] = 1\n",
    "pos_rev.rename(columns={0:'review'}, inplace=True)\n",
    "pos_rev.head()"
   ]
  },
  {
   "cell_type": "code",
   "execution_count": 3,
   "id": "f9be6342",
   "metadata": {
    "ExecuteTime": {
     "end_time": "2022-01-02T11:27:23.662635Z",
     "start_time": "2022-01-02T11:27:23.624026Z"
    }
   },
   "outputs": [
    {
     "data": {
      "text/html": [
       "<div>\n",
       "<style scoped>\n",
       "    .dataframe tbody tr th:only-of-type {\n",
       "        vertical-align: middle;\n",
       "    }\n",
       "\n",
       "    .dataframe tbody tr th {\n",
       "        vertical-align: top;\n",
       "    }\n",
       "\n",
       "    .dataframe thead th {\n",
       "        text-align: right;\n",
       "    }\n",
       "</style>\n",
       "<table border=\"1\" class=\"dataframe\">\n",
       "  <thead>\n",
       "    <tr style=\"text-align: right;\">\n",
       "      <th></th>\n",
       "      <th>review</th>\n",
       "      <th>mood</th>\n",
       "    </tr>\n",
       "  </thead>\n",
       "  <tbody>\n",
       "    <tr>\n",
       "      <th>0</th>\n",
       "      <td>simplistic , silly and tedious.</td>\n",
       "      <td>0</td>\n",
       "    </tr>\n",
       "    <tr>\n",
       "      <th>1</th>\n",
       "      <td>it's so laddish and juvenile , only teenage bo...</td>\n",
       "      <td>0</td>\n",
       "    </tr>\n",
       "    <tr>\n",
       "      <th>2</th>\n",
       "      <td>exploitative and largely devoid of the depth o...</td>\n",
       "      <td>0</td>\n",
       "    </tr>\n",
       "    <tr>\n",
       "      <th>3</th>\n",
       "      <td>[garbus] discards the potential for pathologic...</td>\n",
       "      <td>0</td>\n",
       "    </tr>\n",
       "    <tr>\n",
       "      <th>4</th>\n",
       "      <td>a visually flashy but narratively opaque and e...</td>\n",
       "      <td>0</td>\n",
       "    </tr>\n",
       "  </tbody>\n",
       "</table>\n",
       "</div>"
      ],
      "text/plain": [
       "                                              review  mood\n",
       "0                   simplistic , silly and tedious.      0\n",
       "1  it's so laddish and juvenile , only teenage bo...     0\n",
       "2  exploitative and largely devoid of the depth o...     0\n",
       "3  [garbus] discards the potential for pathologic...     0\n",
       "4  a visually flashy but narratively opaque and e...     0"
      ]
     },
     "execution_count": 3,
     "metadata": {},
     "output_type": "execute_result"
    }
   ],
   "source": [
    "neg_rev = pd.read_csv('negative.txt', sep='\\n', header=None, encoding='latin-1')\n",
    "neg_rev['mood'] = 0\n",
    "neg_rev.rename(columns={0:'review'}, inplace=True)\n",
    "neg_rev.head()"
   ]
  },
  {
   "cell_type": "code",
   "execution_count": 4,
   "id": "33a0baf0",
   "metadata": {
    "ExecuteTime": {
     "end_time": "2022-01-02T11:27:23.693176Z",
     "start_time": "2022-01-02T11:27:23.665122Z"
    }
   },
   "outputs": [
    {
     "data": {
      "text/html": [
       "<div>\n",
       "<style scoped>\n",
       "    .dataframe tbody tr th:only-of-type {\n",
       "        vertical-align: middle;\n",
       "    }\n",
       "\n",
       "    .dataframe tbody tr th {\n",
       "        vertical-align: top;\n",
       "    }\n",
       "\n",
       "    .dataframe thead th {\n",
       "        text-align: right;\n",
       "    }\n",
       "</style>\n",
       "<table border=\"1\" class=\"dataframe\">\n",
       "  <thead>\n",
       "    <tr style=\"text-align: right;\">\n",
       "      <th></th>\n",
       "      <th>review</th>\n",
       "      <th>mood</th>\n",
       "    </tr>\n",
       "  </thead>\n",
       "  <tbody>\n",
       "    <tr>\n",
       "      <th>0</th>\n",
       "      <td>the rock is destined to be the 21st century's ...</td>\n",
       "      <td>1</td>\n",
       "    </tr>\n",
       "    <tr>\n",
       "      <th>1</th>\n",
       "      <td>the gorgeously elaborate continuation of \" the...</td>\n",
       "      <td>1</td>\n",
       "    </tr>\n",
       "    <tr>\n",
       "      <th>2</th>\n",
       "      <td>effective but too-tepid biopic</td>\n",
       "      <td>1</td>\n",
       "    </tr>\n",
       "    <tr>\n",
       "      <th>3</th>\n",
       "      <td>if you sometimes like to go to the movies to h...</td>\n",
       "      <td>1</td>\n",
       "    </tr>\n",
       "    <tr>\n",
       "      <th>4</th>\n",
       "      <td>emerges as something rare , an issue movie tha...</td>\n",
       "      <td>1</td>\n",
       "    </tr>\n",
       "    <tr>\n",
       "      <th>...</th>\n",
       "      <td>...</td>\n",
       "      <td>...</td>\n",
       "    </tr>\n",
       "    <tr>\n",
       "      <th>10657</th>\n",
       "      <td>a terrible movie that some people will neverth...</td>\n",
       "      <td>0</td>\n",
       "    </tr>\n",
       "    <tr>\n",
       "      <th>10658</th>\n",
       "      <td>there are many definitions of 'time waster' bu...</td>\n",
       "      <td>0</td>\n",
       "    </tr>\n",
       "    <tr>\n",
       "      <th>10659</th>\n",
       "      <td>as it stands , crocodile hunter has the hurrie...</td>\n",
       "      <td>0</td>\n",
       "    </tr>\n",
       "    <tr>\n",
       "      <th>10660</th>\n",
       "      <td>the thing looks like a made-for-home-video qui...</td>\n",
       "      <td>0</td>\n",
       "    </tr>\n",
       "    <tr>\n",
       "      <th>10661</th>\n",
       "      <td>enigma is well-made , but it's just too dry an...</td>\n",
       "      <td>0</td>\n",
       "    </tr>\n",
       "  </tbody>\n",
       "</table>\n",
       "<p>10662 rows × 2 columns</p>\n",
       "</div>"
      ],
      "text/plain": [
       "                                                  review  mood\n",
       "0      the rock is destined to be the 21st century's ...     1\n",
       "1      the gorgeously elaborate continuation of \" the...     1\n",
       "2                         effective but too-tepid biopic     1\n",
       "3      if you sometimes like to go to the movies to h...     1\n",
       "4      emerges as something rare , an issue movie tha...     1\n",
       "...                                                  ...   ...\n",
       "10657  a terrible movie that some people will neverth...     0\n",
       "10658  there are many definitions of 'time waster' bu...     0\n",
       "10659  as it stands , crocodile hunter has the hurrie...     0\n",
       "10660  the thing looks like a made-for-home-video qui...     0\n",
       "10661  enigma is well-made , but it's just too dry an...     0\n",
       "\n",
       "[10662 rows x 2 columns]"
      ]
     },
     "execution_count": 4,
     "metadata": {},
     "output_type": "execute_result"
    }
   ],
   "source": [
    "data = pd.concat([pos_rev, neg_rev], axis=0).reset_index(drop=True)\n",
    "data"
   ]
  },
  {
   "cell_type": "code",
   "execution_count": 5,
   "id": "77c256f8",
   "metadata": {
    "ExecuteTime": {
     "end_time": "2022-01-02T11:27:23.709022Z",
     "start_time": "2022-01-02T11:27:23.695169Z"
    }
   },
   "outputs": [],
   "source": [
    "sw = stopwords.words('english')"
   ]
  },
  {
   "cell_type": "code",
   "execution_count": 6,
   "id": "e739cd29",
   "metadata": {
    "ExecuteTime": {
     "end_time": "2022-01-02T11:27:24.284850Z",
     "start_time": "2022-01-02T11:27:23.713313Z"
    }
   },
   "outputs": [],
   "source": [
    "data['review'] = data.review.apply(lambda x : x.lower())\n",
    "data['review'] = data.review.apply(lambda x : ' '.join([word for word in x.split() if word not in sw]))\n",
    "data['review'] = data.review.apply(lambda x : ' '.join([word for word in x.split() if word not in string.punctuation]))"
   ]
  },
  {
   "cell_type": "code",
   "execution_count": 7,
   "id": "795ac436",
   "metadata": {
    "ExecuteTime": {
     "end_time": "2022-01-02T11:27:24.304876Z",
     "start_time": "2022-01-02T11:27:24.288714Z"
    }
   },
   "outputs": [],
   "source": [
    "x_train, x_test, y_train, y_test = train_test_split(data['review'].values, data['mood'].values, test_size=0.2)"
   ]
  },
  {
   "cell_type": "code",
   "execution_count": 8,
   "id": "b0f1ce7b",
   "metadata": {
    "ExecuteTime": {
     "end_time": "2022-01-02T11:27:24.324055Z",
     "start_time": "2022-01-02T11:27:24.310105Z"
    }
   },
   "outputs": [],
   "source": [
    "train_data = pd.DataFrame({'review':x_train, 'mood':y_train})\n",
    "test_data = pd.DataFrame({'review':x_test, 'mood':y_test})"
   ]
  },
  {
   "cell_type": "code",
   "execution_count": 9,
   "id": "4a16ee54",
   "metadata": {
    "ExecuteTime": {
     "end_time": "2022-01-02T11:27:24.586144Z",
     "start_time": "2022-01-02T11:27:24.327070Z"
    }
   },
   "outputs": [],
   "source": [
    "vectoriser = TfidfVectorizer()\n",
    "train_vectors = vectoriser.fit_transform(train_data['review'])\n",
    "test_vectors = vectoriser.transform(test_data['review'])"
   ]
  },
  {
   "cell_type": "code",
   "execution_count": 10,
   "id": "9708527a",
   "metadata": {
    "ExecuteTime": {
     "end_time": "2022-01-02T11:27:45.765940Z",
     "start_time": "2022-01-02T11:27:24.593788Z"
    }
   },
   "outputs": [
    {
     "data": {
      "text/plain": [
       "SVC()"
      ]
     },
     "execution_count": 10,
     "metadata": {},
     "output_type": "execute_result"
    }
   ],
   "source": [
    "classifier = svm.SVC()\n",
    "classifier.fit(train_vectors, train_data['mood'])"
   ]
  },
  {
   "cell_type": "code",
   "execution_count": 11,
   "id": "dabbc35b",
   "metadata": {
    "ExecuteTime": {
     "end_time": "2022-01-02T11:27:50.104932Z",
     "start_time": "2022-01-02T11:27:45.768864Z"
    }
   },
   "outputs": [],
   "source": [
    "pred = classifier.predict(test_vectors)"
   ]
  },
  {
   "cell_type": "code",
   "execution_count": 12,
   "id": "f791cb7d",
   "metadata": {
    "ExecuteTime": {
     "end_time": "2022-01-02T11:27:50.142722Z",
     "start_time": "2022-01-02T11:27:50.104932Z"
    }
   },
   "outputs": [
    {
     "name": "stdout",
     "output_type": "stream",
     "text": [
      "positve 0.7777777777777778\n",
      "neagtive 0.75591985428051\n"
     ]
    }
   ],
   "source": [
    "report = classification_report(test_data['mood'] , pred , output_dict=True)\n",
    "print(f\"positve {report['1']['recall']}\")\n",
    "print(f\"neagtive {report['0']['recall']}\")"
   ]
  }
 ],
 "metadata": {
  "kernelspec": {
   "display_name": "Python 3",
   "language": "python",
   "name": "python3"
  },
  "language_info": {
   "codemirror_mode": {
    "name": "ipython",
    "version": 3
   },
   "file_extension": ".py",
   "mimetype": "text/x-python",
   "name": "python",
   "nbconvert_exporter": "python",
   "pygments_lexer": "ipython3",
   "version": "3.8.8"
  }
 },
 "nbformat": 4,
 "nbformat_minor": 5
}
